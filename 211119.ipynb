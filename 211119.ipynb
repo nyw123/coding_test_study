{
 "cells": [
  {
   "cell_type": "markdown",
   "id": "07d3cf9a",
   "metadata": {},
   "source": [
    "스터디 1번\n",
    "\n",
    "순열 다 구해서 int로 바꾸고 가장 큰거 str 리턴"
   ]
  },
  {
   "cell_type": "code",
   "execution_count": null,
   "id": "588d6868",
   "metadata": {},
   "outputs": [],
   "source": [
    "from itertools import permutations\n",
    "def solution(numbers):\n",
    "    answer = ''\n",
    "    num = 0\n",
    "    com = permutations(numbers,len(numbers))\n",
    "    \n",
    "    for i in com:\n",
    "        answer = ''\n",
    "        for j in i:\n",
    "            answer = answer + str(j)\n",
    "        if int(answer) > num:\n",
    "            num = int(answer)\n",
    "            \n",
    "    return str(num)"
   ]
  },
  {
   "cell_type": "markdown",
   "metadata": {},
   "source": [
    "모의코테 1\n",
    "A는 큰순서 B는 작은 순서 만들어서 비교해서 하나씩 빼주고 뺄때마다 +1 한값 리턴"
   ]
  },
  {
   "cell_type": "code",
   "execution_count": null,
   "id": "0210bccf",
   "metadata": {},
   "outputs": [],
   "source": [
    "def solution(A, B):\n",
    "    answer = 0\n",
    "    new = []\n",
    "    A.sort(reverse=True)\n",
    "    B.sort()\n",
    "    num = 0\n",
    "    while B:\n",
    "        if A[-1] < B[0]:\n",
    "            answer += 1\n",
    "            A.pop(-1)\n",
    "        B.pop(0)\n",
    "\n",
    "\n",
    "    return answer"
   ]
  },
  {
   "cell_type": "code",
   "execution_count": null,
   "id": "e5273b3f",
   "metadata": {},
   "outputs": [],
   "source": []
  }
 ],
 "metadata": {
  "kernelspec": {
   "display_name": "Python 3 (ipykernel)",
   "language": "python",
   "name": "python3"
  },
  "language_info": {
   "codemirror_mode": {
    "name": "ipython",
    "version": 3
   },
   "file_extension": ".py",
   "mimetype": "text/x-python",
   "name": "python",
   "nbconvert_exporter": "python",
   "pygments_lexer": "ipython3",
   "version": "3.9.7"
  },
  "toc": {
   "base_numbering": 1,
   "nav_menu": {},
   "number_sections": true,
   "sideBar": true,
   "skip_h1_title": false,
   "title_cell": "Table of Contents",
   "title_sidebar": "Contents",
   "toc_cell": false,
   "toc_position": {},
   "toc_section_display": true,
   "toc_window_display": false
  }
 },
 "nbformat": 4,
 "nbformat_minor": 5
}
