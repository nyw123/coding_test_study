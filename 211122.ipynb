{
 "cells": [
  {
   "cell_type": "markdown",
   "id": "07d3cf9a",
   "metadata": {},
   "source": [
    "스터디 1번\n",
    "\n",
    "n개 차이가 거의 없을때 최대임 2로 나눴을때 나머지가 0이 될 때까 몫+1"
   ]
  },
  {
   "cell_type": "code",
   "execution_count": null,
   "id": "588d6868",
   "metadata": {},
   "outputs": [],
   "source": [
    "def solution(n, s):\n",
    "    p = s // n\n",
    "    if p == 0: return [-1]\n",
    "    q = s % n\n",
    "    answer = [p] * n\n",
    "    k = 0\n",
    "    while q > 0:\n",
    "        answer[k%n] += 1\n",
    "        q -= 1\n",
    "        k += 1\n",
    "    \n",
    "    answer.sort()\n",
    "    return answer"
   ]
  },
  {
   "cell_type": "markdown",
   "metadata": {},
   "source": [
    "모의코테 1\n",
    "\n",
    "0으로 이어진 리스트만들어서 n으로 나눈다음 몫과 나머지 보고 더해줌"
   ]
  },
  {
   "cell_type": "code",
   "execution_count": null,
   "id": "0210bccf",
   "metadata": {},
   "outputs": [],
   "source": [
    "def solution(n, stations, w):\n",
    "    answer = 0\n",
    "    one_list = [0]*n\n",
    "    zero_list = []\n",
    "    num = 0\n",
    "    for i in stations:\n",
    "        l = i-1-w\n",
    "        r = i-1+w\n",
    "        if l < 0:\n",
    "            l = 0\n",
    "        if r > n-1:\n",
    "            r = n-1\n",
    "        for j in range(l,r+1):\n",
    "            one_list[j] = 1\n",
    "    for i,v in enumerate(one_list):\n",
    "        if v == 0:\n",
    "            num += 1   \n",
    "        if v==1 and num != 0 :\n",
    "            zero_list.append(num)\n",
    "            num = 0\n",
    "        if i == len(one_list)-1:\n",
    "            if num != 0:\n",
    "                zero_list.append(num)\n",
    "    d = (w*2)+1\n",
    "    for i in zero_list:\n",
    "        if i//d == 0:\n",
    "            answer += 1\n",
    "        else:\n",
    "            if i%d != 0:\n",
    "                answer = answer + i//d + 1\n",
    "            else:\n",
    "                answer = answer + i//d\n",
    "    return answer"
   ]
  },
  {
   "cell_type": "markdown",
   "id": "744280e6",
   "metadata": {},
   "source": [
    "모의코테2 \n",
    "\n",
    "못품"
   ]
  },
  {
   "cell_type": "code",
   "execution_count": null,
   "id": "e5273b3f",
   "metadata": {},
   "outputs": [],
   "source": [
    "def solution(n,signs):\n",
    "    answer = []\n",
    "    n_list = []\n",
    "    for i,v in enumerate(signs):\n",
    "        for j,k in enumerate(v):\n",
    "            if k == 1:\n",
    "                n_list.append([i+1,j+1])\n",
    "    zero_list = [0]*n\n",
    "    for i in n_list:\n",
    "        for j in range(len(i)):\n",
    "            zero_list[i[j]-1] = zero_list[i[j]-1] + 1\n",
    "            \n",
    "    for i in zero_list:\n",
    "        if i < 2:\n",
    "            answer.append(0)\n",
    "        else:\n",
    "            answer.append(1)\n",
    "    answer = [answer]*n\n",
    "    return answer"
   ]
  }
 ],
 "metadata": {
  "kernelspec": {
   "display_name": "Python 3 (ipykernel)",
   "language": "python",
   "name": "python3"
  },
  "language_info": {
   "codemirror_mode": {
    "name": "ipython",
    "version": 3
   },
   "file_extension": ".py",
   "mimetype": "text/x-python",
   "name": "python",
   "nbconvert_exporter": "python",
   "pygments_lexer": "ipython3",
   "version": "3.9.7"
  },
  "toc": {
   "base_numbering": 1,
   "nav_menu": {},
   "number_sections": true,
   "sideBar": true,
   "skip_h1_title": false,
   "title_cell": "Table of Contents",
   "title_sidebar": "Contents",
   "toc_cell": false,
   "toc_position": {},
   "toc_section_display": true,
   "toc_window_display": false
  }
 },
 "nbformat": 4,
 "nbformat_minor": 5
}
