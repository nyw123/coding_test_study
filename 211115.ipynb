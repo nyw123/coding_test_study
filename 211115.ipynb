{
 "cells": [
  {
   "cell_type": "markdown",
   "id": "45f372eb",
   "metadata": {},
   "source": [
    "출제자 문제 못품"
   ]
  },
  {
   "cell_type": "code",
   "execution_count": null,
   "id": "18155559",
   "metadata": {},
   "outputs": [],
   "source": []
  },
  {
   "cell_type": "markdown",
   "id": "ffbdad9d",
   "metadata": {},
   "source": [
    "문제 1번\n",
    "\n",
    "가장 큰숫자 에서 no만큼 -1 씩 해주고 계산후 리턴\n",
    "\n",
    "works 안에 값들의 합이 더 작을때 예외처리 안해주니 테스트 7,8 통과못해서 예외처리해주니 통과"
   ]
  },
  {
   "cell_type": "code",
   "execution_count": null,
   "id": "23abb707",
   "metadata": {},
   "outputs": [],
   "source": [
    "def solution(no, works):\n",
    "    result = 0\n",
    "    n = no\n",
    "    w = works\n",
    "    if sum(w) >= n:\n",
    "        while n!=0:\n",
    "            w.sort()\n",
    "            w[-1] = w[-1] -1\n",
    "            n -= 1\n",
    "\n",
    "        for i in w:\n",
    "            result = result + i**2\n",
    "    else:\n",
    "        result = 0\n",
    "\n",
    "    return result"
   ]
  },
  {
   "cell_type": "markdown",
   "id": "4afdf11c",
   "metadata": {},
   "source": [
    "문제 2번 못품"
   ]
  },
  {
   "cell_type": "code",
   "execution_count": null,
   "id": "3ac546be",
   "metadata": {},
   "outputs": [],
   "source": []
  }
 ],
 "metadata": {
  "kernelspec": {
   "display_name": "Python 3 (ipykernel)",
   "language": "python",
   "name": "python3"
  },
  "language_info": {
   "codemirror_mode": {
    "name": "ipython",
    "version": 3
   },
   "file_extension": ".py",
   "mimetype": "text/x-python",
   "name": "python",
   "nbconvert_exporter": "python",
   "pygments_lexer": "ipython3",
   "version": "3.8.11"
  }
 },
 "nbformat": 4,
 "nbformat_minor": 5
}
