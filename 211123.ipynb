{
 "cells": [
  {
   "cell_type": "markdown",
   "id": "07d3cf9a",
   "metadata": {},
   "source": [
    "스터디 1번\n",
    "\n",
    "못품"
   ]
  },
  {
   "cell_type": "code",
   "execution_count": null,
   "id": "588d6868",
   "metadata": {},
   "outputs": [],
   "source": []
  },
  {
   "cell_type": "markdown",
   "metadata": {},
   "source": [
    "모의코테 1\n",
    "\n",
    "첫번째와 두번째로 각각 정렬해주고 시작 끝 봐가면서 +1"
   ]
  },
  {
   "cell_type": "code",
   "execution_count": null,
   "id": "0210bccf",
   "metadata": {},
   "outputs": [],
   "source": [
    "def solution(arr):\n",
    "    answer = 0\n",
    "    arr.sort(key = lambda x:(x[1],x[0]))\n",
    "\n",
    "    last = -1\n",
    "\n",
    "    for i in arr:\n",
    "        if i[0]>=last:\n",
    "            answer += 1\n",
    "            last = i[1]\n",
    "    return answer"
   ]
  },
  {
   "cell_type": "markdown",
   "id": "744280e6",
   "metadata": {},
   "source": [
    "모의코테2 \n",
    "\n",
    "크기 조절해가며 정해서 앞뒤 똑같은지 확인후 길이 최대 리턴"
   ]
  },
  {
   "cell_type": "code",
   "execution_count": null,
   "id": "e5273b3f",
   "metadata": {},
   "outputs": [],
   "source": [
    "def solution(s):\n",
    "    answer = 1\n",
    "    l = len(s)\n",
    "\n",
    "    for i in range(l):\n",
    "        for j in range(i+2,l+1):\n",
    "            a = s[i:j]\n",
    "            if len(a) < answer:\n",
    "                continue\n",
    "            if a == a[::-1]:\n",
    "                answer = max(answer, j-i)\n",
    "\n",
    "\n",
    "    return answer"
   ]
  }
 ],
 "metadata": {
  "kernelspec": {
   "display_name": "Python 3 (ipykernel)",
   "language": "python",
   "name": "python3"
  },
  "language_info": {
   "codemirror_mode": {
    "name": "ipython",
    "version": 3
   },
   "file_extension": ".py",
   "mimetype": "text/x-python",
   "name": "python",
   "nbconvert_exporter": "python",
   "pygments_lexer": "ipython3",
   "version": "3.9.7"
  },
  "toc": {
   "base_numbering": 1,
   "nav_menu": {},
   "number_sections": true,
   "sideBar": true,
   "skip_h1_title": false,
   "title_cell": "Table of Contents",
   "title_sidebar": "Contents",
   "toc_cell": false,
   "toc_position": {},
   "toc_section_display": true,
   "toc_window_display": false
  }
 },
 "nbformat": 4,
 "nbformat_minor": 5
}
