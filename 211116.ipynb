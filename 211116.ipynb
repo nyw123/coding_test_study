{
 "cells": [
  {
   "cell_type": "markdown",
   "id": "07d3cf9a",
   "metadata": {},
   "source": [
    "스터디 1번\n"
   ]
  },
  {
   "cell_type": "markdown",
   "id": "dc6e2dc7",
   "metadata": {},
   "source": [
    "모의 코테 1번\n",
    "\n"
   ]
  },
  {
   "cell_type": "markdown",
   "id": "eaf2ae1a",
   "metadata": {},
   "source": [
    "모의코테 2번\n"
   ]
  },
  {
   "cell_type": "markdown",
   "id": "85b0fd93",
   "metadata": {},
   "source": [
    "하나도 못풀어서원..."
   ]
  },
  {
   "cell_type": "code",
   "execution_count": null,
   "id": "588d6868",
   "metadata": {},
   "outputs": [],
   "source": []
  },
  {
   "cell_type": "code",
   "execution_count": null,
   "id": "0210bccf",
   "metadata": {},
   "outputs": [],
   "source": []
  },
  {
   "cell_type": "code",
   "execution_count": null,
   "id": "e5273b3f",
   "metadata": {},
   "outputs": [],
   "source": []
  }
 ],
 "metadata": {
  "kernelspec": {
   "display_name": "Python 3 (ipykernel)",
   "language": "python",
   "name": "python3"
  },
  "language_info": {
   "codemirror_mode": {
    "name": "ipython",
    "version": 3
   },
   "file_extension": ".py",
   "mimetype": "text/x-python",
   "name": "python",
   "nbconvert_exporter": "python",
   "pygments_lexer": "ipython3",
   "version": "3.9.7"
  },
  "toc": {
   "base_numbering": 1,
   "nav_menu": {},
   "number_sections": true,
   "sideBar": true,
   "skip_h1_title": false,
   "title_cell": "Table of Contents",
   "title_sidebar": "Contents",
   "toc_cell": false,
   "toc_position": {},
   "toc_section_display": true,
   "toc_window_display": false
  }
 },
 "nbformat": 4,
 "nbformat_minor": 5
}
