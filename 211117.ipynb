{
 "cells": [
  {
   "cell_type": "markdown",
   "id": "07d3cf9a",
   "metadata": {},
   "source": [
    "스터디 1번\n",
    "스택사용 처음 price를 stack에 쌓고 다음 price가 더 크면 스택에 쌓고 작으면 pop을 한다. "
   ]
  },
  {
   "cell_type": "code",
   "execution_count": null,
   "id": "588d6868",
   "metadata": {},
   "outputs": [],
   "source": [
    "def solution(prices):\n",
    "    answer = [0]*len(prices)\n",
    "    stack = []\n",
    " \n",
    "    for i, price in enumerate(prices):\n",
    "        #stack이 비었이면 false\n",
    "        while stack and price < prices[stack[-1]]:\n",
    "            j = stack.pop()\n",
    "            answer[j] = i - j\n",
    "        stack.append(i)\n",
    " \n",
    "    # for문 다 돌고 Stack에 남아있는 값들 pop\n",
    "    while stack:\n",
    "        j = stack.pop()\n",
    "        answer[j] = len(prices) - 1 - j\n",
    " \n",
    "    return answer\n",
    "\n",
    "\n",
    "출처: https://deftkang.tistory.com/175 [deftkang의 IT 블로그]"
   ]
  },
  {
   "cell_type": "code",
   "execution_count": null,
   "id": "0210bccf",
   "metadata": {},
   "outputs": [],
   "source": []
  },
  {
   "cell_type": "code",
   "execution_count": null,
   "id": "e5273b3f",
   "metadata": {},
   "outputs": [],
   "source": []
  }
 ],
 "metadata": {
  "kernelspec": {
   "display_name": "Python 3 (ipykernel)",
   "language": "python",
   "name": "python3"
  },
  "language_info": {
   "codemirror_mode": {
    "name": "ipython",
    "version": 3
   },
   "file_extension": ".py",
   "mimetype": "text/x-python",
   "name": "python",
   "nbconvert_exporter": "python",
   "pygments_lexer": "ipython3",
   "version": "3.9.7"
  },
  "toc": {
   "base_numbering": 1,
   "nav_menu": {},
   "number_sections": true,
   "sideBar": true,
   "skip_h1_title": false,
   "title_cell": "Table of Contents",
   "title_sidebar": "Contents",
   "toc_cell": false,
   "toc_position": {},
   "toc_section_display": true,
   "toc_window_display": false
  }
 },
 "nbformat": 4,
 "nbformat_minor": 5
}
