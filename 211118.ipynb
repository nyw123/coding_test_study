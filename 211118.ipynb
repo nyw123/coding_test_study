{
 "cells": [
  {
   "cell_type": "markdown",
   "id": "07d3cf9a",
   "metadata": {},
   "source": [
    "스터디 1번\n",
    "\n",
    "전체 숫자 리스트에서 생성자리스트를 비교해서 셀프 넘버 출력"
   ]
  },
  {
   "cell_type": "code",
   "execution_count": null,
   "id": "588d6868",
   "metadata": {},
   "outputs": [],
   "source": [
    "def ssum(a):\n",
    "  b = str(a)\n",
    "  sum2 = int(a)\n",
    "  for i in b:\n",
    "    for j in i:\n",
    "      sum2 = sum2 + int(j)\n",
    "  return sum2\n",
    "\n",
    "\n",
    "def sn():\n",
    "  nlist1 = []\n",
    "  nlist2 = []\n",
    "  nlist3 = []\n",
    "\n",
    "  for n in range(1,10001):\n",
    "    nlist1.append(int(n))\n",
    "  \n",
    "  for i in range(1,10001):\n",
    "    nlist2.append(ssum(i))\n",
    "  \n",
    "  for j in nlist1:\n",
    "    if j not in nlist2:\n",
    "      print(j) \n",
    "sn()"
   ]
  },
  {
   "cell_type": "markdown",
   "metadata": {},
   "source": [
    "모의코테 1,2 예전과 같음"
   ]
  },
  {
   "cell_type": "code",
   "execution_count": null,
   "id": "0210bccf",
   "metadata": {},
   "outputs": [],
   "source": []
  },
  {
   "cell_type": "code",
   "execution_count": null,
   "id": "e5273b3f",
   "metadata": {},
   "outputs": [],
   "source": []
  }
 ],
 "metadata": {
  "kernelspec": {
   "display_name": "Python 3 (ipykernel)",
   "language": "python",
   "name": "python3"
  },
  "language_info": {
   "codemirror_mode": {
    "name": "ipython",
    "version": 3
   },
   "file_extension": ".py",
   "mimetype": "text/x-python",
   "name": "python",
   "nbconvert_exporter": "python",
   "pygments_lexer": "ipython3",
   "version": "3.9.7"
  },
  "toc": {
   "base_numbering": 1,
   "nav_menu": {},
   "number_sections": true,
   "sideBar": true,
   "skip_h1_title": false,
   "title_cell": "Table of Contents",
   "title_sidebar": "Contents",
   "toc_cell": false,
   "toc_position": {},
   "toc_section_display": true,
   "toc_window_display": false
  }
 },
 "nbformat": 4,
 "nbformat_minor": 5
}
