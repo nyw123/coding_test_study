{
 "cells": [
  {
   "cell_type": "markdown",
   "id": "07d3cf9a",
   "metadata": {},
   "source": [
    "스터디 1번\n",
    "\n",
    "숫자들 순열로 조합 만들고 for문돌면서 int로 만들어서 소수인지 확인후 소수면 +1"
   ]
  },
  {
   "cell_type": "code",
   "execution_count": null,
   "id": "de4eb283",
   "metadata": {},
   "outputs": [],
   "source": [
    "from itertools import permutations\n",
    "def solution(numbers):\n",
    "    nlist = list(numbers)\n",
    "    answer = 0\n",
    "    for i in range(1,len(nlist)+1):\n",
    "        per = permutations(nlist,i)\n",
    "        for j in per:\n",
    "            \n",
    "            for k in range(1,len(j)+1):\n",
    "                if k != 1:\n",
    "                    num = j[k-2]+j[k-1]\n",
    "                else:\n",
    "                    num = j[k-2]\n",
    "                def is_prime_num(num):\n",
    "                    for w in range(2, num):\n",
    "                        if num % w == 0:\n",
    "                            return False \n",
    "                    return True\n",
    "                print(int(num))\n",
    "                n = is_prime_num(int(num))\n",
    "                answer = answer + n\n",
    "    return answer"
   ]
  },
  {
   "cell_type": "markdown",
   "id": "dc6e2dc7",
   "metadata": {},
   "source": [
    "모의 코테 1번\n",
    "\n",
    "x,y 각각 리스트로 넣어주고 2번 나온거있으면 제거 하고 1번나온값 리턴\n"
   ]
  },
  {
   "cell_type": "code",
   "execution_count": null,
   "id": "1a55bed0",
   "metadata": {},
   "outputs": [],
   "source": [
    "def solution(v):\n",
    "    answer = []\n",
    "    x,y = [],[]\n",
    "    for i in v:\n",
    "        if i[0] in x:\n",
    "            x.remove(i[0])\n",
    "        else:\n",
    "            x.append(i[0])\n",
    "        if i[1] in y:\n",
    "            y.remove(i[1])\n",
    "        else:\n",
    "            y.append(i[1])\n",
    "    answer.append(x[0])\n",
    "    answer.append(y[0])\n",
    "\n",
    "    return answer"
   ]
  },
  {
   "cell_type": "markdown",
   "id": "eaf2ae1a",
   "metadata": {},
   "source": [
    "모의코테 2번\n",
    "\n",
    "sort후 for문 돌면서 맞는지 확인"
   ]
  },
  {
   "cell_type": "code",
   "execution_count": null,
   "id": "10fca373",
   "metadata": {},
   "outputs": [],
   "source": [
    "def solution(arr):\n",
    "    answer = True\n",
    "    n = len(arr)\n",
    "    arr.sort()\n",
    "    for i in range(n):\n",
    "        #print(i,arr[i])\n",
    "        if arr[i] != i+1:\n",
    "            answer = False\n",
    "\n",
    "\n",
    "    return answer"
   ]
  },
  {
   "cell_type": "markdown",
   "id": "4694dd17",
   "metadata": {},
   "source": [
    "모의코테 3번\n",
    "\n",
    "\n",
    "라운드 올라갈수록 번호가 2로 나눈값이됨 다음 번호가 같게 된다면 서로 붙는다는거니까 같은 번호나올때까지 while 돌다가 같아지면 return\n",
    "\n",
    "but 58점 밖에 못받음..."
   ]
  },
  {
   "cell_type": "code",
   "execution_count": null,
   "id": "166eb932",
   "metadata": {},
   "outputs": [],
   "source": [
    "def solution(n,a,b):\n",
    "    answer = 1\n",
    "    anum = round(a/2)\n",
    "    bnum = round(b/2)\n",
    "    if anum == 0:\n",
    "        anum = 1\n",
    "    if bnum == 0:\n",
    "        bnum = 1\n",
    "    if anum != bnum:\n",
    "        while 1:\n",
    "            if anum == bnum:\n",
    "                break\n",
    "            else:\n",
    "                anum = round(anum/2)\n",
    "                bnum = round(bnum/2)\n",
    "                if anum == 0:\n",
    "                    anum = 1\n",
    "                if bnum == 0:\n",
    "                    bnum = 1\n",
    "                answer += 1\n",
    "        return answer\n",
    "    else:\n",
    "        return answer"
   ]
  },
  {
   "cell_type": "code",
   "execution_count": null,
   "id": "85b0fd93",
   "metadata": {},
   "outputs": [],
   "source": []
  },
  {
   "cell_type": "code",
   "execution_count": null,
   "id": "588d6868",
   "metadata": {},
   "outputs": [],
   "source": []
  },
  {
   "cell_type": "code",
   "execution_count": null,
   "id": "0210bccf",
   "metadata": {},
   "outputs": [],
   "source": []
  },
  {
   "cell_type": "code",
   "execution_count": null,
   "id": "e5273b3f",
   "metadata": {},
   "outputs": [],
   "source": []
  }
 ],
 "metadata": {
  "kernelspec": {
   "display_name": "Python 3 (ipykernel)",
   "language": "python",
   "name": "python3"
  },
  "language_info": {
   "codemirror_mode": {
    "name": "ipython",
    "version": 3
   },
   "file_extension": ".py",
   "mimetype": "text/x-python",
   "name": "python",
   "nbconvert_exporter": "python",
   "pygments_lexer": "ipython3",
   "version": "3.9.7"
  },
  "toc": {
   "base_numbering": 1,
   "nav_menu": {},
   "number_sections": true,
   "sideBar": true,
   "skip_h1_title": false,
   "title_cell": "Table of Contents",
   "title_sidebar": "Contents",
   "toc_cell": false,
   "toc_position": {},
   "toc_section_display": true,
   "toc_window_display": false
  }
 },
 "nbformat": 4,
 "nbformat_minor": 5
}
